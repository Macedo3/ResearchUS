{
 "cells": [
  {
   "cell_type": "markdown",
   "metadata": {},
   "source": [
    "# Data Analysis"
   ]
  },
  {
   "cell_type": "markdown",
   "metadata": {},
   "source": [
    "## Importing Libs"
   ]
  },
  {
   "cell_type": "code",
   "execution_count": null,
   "metadata": {},
   "outputs": [],
   "source": [
    "import pandas as pd\n",
    "import matplotlib.pyplot as plt\n",
    "import seaborn as sns\n",
    "sns.set_theme()"
   ]
  },
  {
   "cell_type": "markdown",
   "metadata": {},
   "source": [
    "## Reading the Data"
   ]
  },
  {
   "cell_type": "code",
   "execution_count": null,
   "metadata": {},
   "outputs": [],
   "source": [
    "def resetIndex(data):\n",
    "    data = data.reset_index()\n",
    "    return data.head()"
   ]
  },
  {
   "cell_type": "code",
   "execution_count": null,
   "metadata": {},
   "outputs": [],
   "source": [
    "FedFundsRate = pd.read_excel('../data/FedFundsRate.xlsx', index_col=0, engine='openpyxl')\n",
    "resetIndex(FedFundsRate)"
   ]
  },
  {
   "cell_type": "code",
   "execution_count": null,
   "metadata": {},
   "outputs": [],
   "source": [
    "M2 = pd.read_excel('../data/M2.xlsx', index_col=0, engine='openpyxl')\n",
    "resetIndex(M2)"
   ]
  },
  {
   "cell_type": "code",
   "execution_count": null,
   "metadata": {},
   "outputs": [],
   "source": [
    "M2['M2_pct'] = M2['M2'].pct_change() * 100"
   ]
  },
  {
   "cell_type": "code",
   "execution_count": null,
   "metadata": {},
   "outputs": [],
   "source": [
    "MedianCPI = pd.read_excel('../data/Median_CPI.xlsx', index_col=0, engine='openpyxl')\n",
    "resetIndex(MedianCPI)"
   ]
  },
  {
   "cell_type": "code",
   "execution_count": null,
   "metadata": {},
   "outputs": [],
   "source": [
    "StickyCPI = pd.read_excel('../data/StickyCPI_Less_Food_And_Energy.xlsx', index_col=0, engine='openpyxl')\n",
    "resetIndex(StickyCPI)"
   ]
  },
  {
   "cell_type": "code",
   "execution_count": null,
   "metadata": {},
   "outputs": [],
   "source": [
    "UnemploymentRate25_34Y = pd.read_excel('../data/UnemploymentRate_25-34Y.xlsx', index_col=0, engine='openpyxl')\n",
    "resetIndex(UnemploymentRate25_34Y)"
   ]
  },
  {
   "cell_type": "code",
   "execution_count": null,
   "metadata": {},
   "outputs": [],
   "source": [
    "UnemploymentRate45_54Y = pd.read_excel('../data/UnemploymentRate_45-54Y.xlsx', index_col=0, engine='openpyxl')\n",
    "resetIndex(UnemploymentRate45_54Y)"
   ]
  },
  {
   "cell_type": "code",
   "execution_count": null,
   "metadata": {},
   "outputs": [],
   "source": [
    "UnemploymentRate55_64Y = pd.read_excel('../data/UnemploymentRate_55-64Y.xlsx', index_col=0, engine='openpyxl')\n",
    "resetIndex(UnemploymentRate55_64Y)"
   ]
  },
  {
   "cell_type": "code",
   "execution_count": null,
   "metadata": {},
   "outputs": [],
   "source": [
    "UnemploymentRate65_OverY = pd.read_excel('../data/UnemploymentRate_65-OverY.xlsx', index_col=0, engine='openpyxl')\n",
    "resetIndex(UnemploymentRate65_OverY)"
   ]
  },
  {
   "cell_type": "code",
   "execution_count": null,
   "metadata": {},
   "outputs": [],
   "source": [
    "ComercialAndIndustrialLoans = pd.read_excel('../data/Commercial and Industrial Loans, All Commercial Banks, Percent Change at Annual Rate.xlsx', index_col=0, engine='openpyxl')\n",
    "resetIndex(ComercialAndIndustrialLoans)"
   ]
  },
  {
   "cell_type": "code",
   "execution_count": null,
   "metadata": {},
   "outputs": [],
   "source": [
    "FederalDebt = pd.read_excel('../data/Federal Debt Total Public Debt as Percent of Gross Domestic Product, Percent of GDP.xlsx', index_col=0, engine='openpyxl')\n",
    "resetIndex(FederalDebt)"
   ]
  },
  {
   "cell_type": "code",
   "execution_count": null,
   "metadata": {},
   "outputs": [],
   "source": [
    "FederalDebtDollares = pd.read_excel('../data/FederalDebtDollares.xlsx', index_col=0, engine='openpyxl')\n",
    "resetIndex(FederalDebtDollares)"
   ]
  },
  {
   "cell_type": "markdown",
   "metadata": {},
   "source": [
    "## Plotting Graphs"
   ]
  },
  {
   "cell_type": "markdown",
   "metadata": {},
   "source": [
    "### Fed Funds Rate"
   ]
  },
  {
   "cell_type": "code",
   "execution_count": null,
   "metadata": {},
   "outputs": [],
   "source": [
    "sns.set(style=\"darkgrid\")\n",
    "\n",
    "plt.figure(figsize=(50, 15))\n",
    "\n",
    "sns.lineplot(x='observation_date', y='FedFundsRate', data=FedFundsRate, label='Federal Reserve Funds Rate', color='blue')\n",
    "plt.xticks(rotation=45)\n",
    "\n",
    "plt.title('Relationship between the Federal Reserve Funds Rate and the Observation Time', fontsize=20)\n",
    "plt.xlabel('Date')\n",
    "plt.ylabel('Indicator FED Rate (%)')\n",
    "\n",
    "plt.legend(fontsize='large')\n",
    "plt.figtext(0.5, 0.01, \"Source: Federal Reserve Economic Data\", ha=\"center\", fontsize=18, bbox={\"facecolor\":\"orange\", \"alpha\":0.5, \"pad\":5})\n",
    "\n",
    "plt.show()"
   ]
  },
  {
   "cell_type": "markdown",
   "metadata": {},
   "source": [
    "### American M2 "
   ]
  },
  {
   "cell_type": "code",
   "execution_count": null,
   "metadata": {},
   "outputs": [],
   "source": [
    "sns.set(style=\"darkgrid\")\n",
    "\n",
    "plt.figure(figsize=(50, 15))\n",
    "\n",
    "sns.lineplot(x='observation_date', y='M2', data=M2, label='American M2', color='black')\n",
    "plt.xticks(rotation=45)\n",
    "\n",
    "plt.title('Relationship between the American M2 and the Observation Time', fontsize=20)\n",
    "plt.xlabel('Date')\n",
    "plt.ylabel('Indicator M2')\n",
    "\n",
    "plt.legend(fontsize='large')\n",
    "plt.figtext(0.5, 0.01, \"Source: Federal Reserve Economic Data\", ha=\"center\", fontsize=18, bbox={\"facecolor\":\"orange\", \"alpha\":0.5, \"pad\":5})\n",
    "\n",
    "plt.show()"
   ]
  },
  {
   "cell_type": "markdown",
   "metadata": {},
   "source": [
    "### Median CPI"
   ]
  },
  {
   "cell_type": "code",
   "execution_count": null,
   "metadata": {},
   "outputs": [],
   "source": [
    "sns.set(style=\"darkgrid\")\n",
    "\n",
    "plt.figure(figsize=(50, 15))\n",
    "\n",
    "sns.lineplot(x='observation_date', y='Median CPI', data=MedianCPI, label='Median CPI', color='red')\n",
    "plt.xticks(rotation=45)\n",
    "\n",
    "plt.title('Relationship between the Median CPI and the Observation Time', fontsize=20)\n",
    "plt.xlabel('Date')\n",
    "plt.ylabel('Indicator Median CPI')\n",
    "\n",
    "plt.legend(fontsize='large')\n",
    "plt.figtext(0.5, 0.01, \"Source: Federal Reserve Economic Data\", ha=\"center\", fontsize=18, bbox={\"facecolor\":\"orange\", \"alpha\":0.5, \"pad\":5})\n",
    "\n",
    "plt.show()"
   ]
  },
  {
   "cell_type": "markdown",
   "metadata": {},
   "source": [
    "### StickyCPI"
   ]
  },
  {
   "cell_type": "code",
   "execution_count": null,
   "metadata": {},
   "outputs": [],
   "source": [
    "sns.set(style=\"darkgrid\")\n",
    "\n",
    "plt.figure(figsize=(50, 15))\n",
    "\n",
    "sns.lineplot(x='observation_date', y='StickyCPI', data=StickyCPI, label='Sticky CPI', color='#8155BA')\n",
    "plt.xticks(rotation=45)\n",
    "\n",
    "plt.title('Relationship between the Sticky CPI and the Observation Time', fontsize=20)\n",
    "plt.xlabel('Date')\n",
    "plt.ylabel('Indicator Sticky CPI')\n",
    "\n",
    "plt.legend(fontsize='large')\n",
    "plt.figtext(0.5, 0.01, \"Source: Federal Reserve Economic Data\", ha=\"center\", fontsize=18, bbox={\"facecolor\":\"orange\", \"alpha\":0.5, \"pad\":5})\n",
    "\n",
    "plt.show()"
   ]
  },
  {
   "cell_type": "code",
   "execution_count": null,
   "metadata": {},
   "outputs": [],
   "source": [
    "StickyCPI.reset_index(inplace=True)\n",
    "StickyCPIFiltered = StickyCPI[StickyCPI['observation_date'] > '2022-12-01']"
   ]
  },
  {
   "cell_type": "code",
   "execution_count": null,
   "metadata": {},
   "outputs": [],
   "source": [
    "sns.set(style=\"darkgrid\")\n",
    "\n",
    "plt.figure(figsize=(50, 15))\n",
    "\n",
    "sns.lineplot(x='observation_date', y='StickyCPI', data=StickyCPIFiltered, label='Sticky CPI', color='#8155BA')\n",
    "\n",
    "for index, row in StickyCPIFiltered.iterrows():\n",
    "    plt.annotate(f\"{row['StickyCPI']:.2f}\", (row['observation_date'], row['StickyCPI']), textcoords=\"offset points\", xytext=(0,10), ha='center')\n",
    "\n",
    "plt.xticks(rotation=45)\n",
    "plt.title('Relationship between the Sticky CPI and the Observation Time', fontsize=20)\n",
    "plt.xlabel('Date')\n",
    "plt.ylabel('Indicator Sticky CPI')\n",
    "plt.legend(fontsize='large')\n",
    "plt.figtext(0.5, 0.01, \"Source: Federal Reserve Economic Data\", ha=\"center\", fontsize=18, bbox={\"facecolor\":\"orange\", \"alpha\":0.5, \"pad\":5})\n",
    "\n",
    "plt.show()\n"
   ]
  },
  {
   "cell_type": "markdown",
   "metadata": {},
   "source": [
    "### Unemployment Rate 25 - 34Y "
   ]
  },
  {
   "cell_type": "code",
   "execution_count": null,
   "metadata": {},
   "outputs": [],
   "source": [
    "sns.set(style=\"darkgrid\")\n",
    "\n",
    "plt.figure(figsize=(50, 15))\n",
    "\n",
    "sns.lineplot(x='observation_date', y='UnemploymentRate_25-34Y', data=UnemploymentRate25_34Y, label='Unemployment Rate 25 - 34Y', color='purple')\n",
    "plt.xticks(rotation=45)\n",
    "\n",
    "plt.title('Relationship between the Unemployment Rate 25 - 34Y and the Observation Time', fontsize=20)\n",
    "plt.xlabel('Date')\n",
    "plt.ylabel('Unemployment Rate 25 - 34Y (%)')\n",
    "\n",
    "plt.legend(fontsize='large')\n",
    "plt.figtext(0.5, 0.01, \"Source: Federal Reserve Economic Data\", ha=\"center\", fontsize=18, bbox={\"facecolor\":\"orange\", \"alpha\":0.5, \"pad\":5})\n",
    "\n",
    "plt.show()"
   ]
  },
  {
   "cell_type": "code",
   "execution_count": null,
   "metadata": {},
   "outputs": [],
   "source": [
    "UnemploymentRate25_34Y.reset_index(inplace=True)\n",
    "UnemploymentRate25_34YFiltered = UnemploymentRate25_34Y[UnemploymentRate25_34Y['observation_date'] > '2005-12-01']"
   ]
  },
  {
   "cell_type": "code",
   "execution_count": null,
   "metadata": {},
   "outputs": [],
   "source": [
    "sns.set(style=\"darkgrid\")\n",
    "\n",
    "plt.figure(figsize=(50, 15))\n",
    "\n",
    "sns.lineplot(x='observation_date', y='UnemploymentRate_25-34Y', data=UnemploymentRate25_34YFiltered, label='Unemployment Rate 25 34Y', color='purple')\n",
    "\n",
    "plt.xticks(rotation=45)\n",
    "plt.title('Relationship between the Unemployment Rate 25 34Y and the Observation Time', fontsize=20)\n",
    "plt.xlabel('Date')\n",
    "plt.ylabel('Indicator Unemployment Rate 25 34Y')\n",
    "plt.legend(fontsize='large')\n",
    "plt.figtext(0.5, 0.01, \"Source: Federal Reserve Economic Data\", ha=\"center\", fontsize=18, bbox={\"facecolor\":\"orange\", \"alpha\":0.5, \"pad\":5})\n",
    "\n",
    "plt.show()\n"
   ]
  },
  {
   "cell_type": "markdown",
   "metadata": {},
   "source": [
    "### Unemployment Rate 45 - 54Y "
   ]
  },
  {
   "cell_type": "code",
   "execution_count": null,
   "metadata": {},
   "outputs": [],
   "source": [
    "sns.set(style=\"darkgrid\")\n",
    "\n",
    "plt.figure(figsize=(50, 15))\n",
    "\n",
    "sns.lineplot(x='observation_date', y='UnemploymentRate_45-54Y', data=UnemploymentRate45_54Y, label='Unemployment Rate 45 - 54Y', color='orange')\n",
    "plt.xticks(rotation=45)\n",
    "\n",
    "plt.title('Relationship between the Unemployment Rate 45 - 54Y and the Observation Time', fontsize=20)\n",
    "plt.xlabel('Date')\n",
    "plt.ylabel('Unemployment Rate 45 - 54Y (%)')\n",
    "\n",
    "plt.legend(fontsize='large')\n",
    "plt.figtext(0.5, 0.01, \"Source: Federal Reserve Economic Data\", ha=\"center\", fontsize=18, bbox={\"facecolor\":\"orange\", \"alpha\":0.5, \"pad\":5})\n",
    "\n",
    "plt.show()"
   ]
  },
  {
   "cell_type": "code",
   "execution_count": null,
   "metadata": {},
   "outputs": [],
   "source": [
    "UnemploymentRate45_54Y.reset_index(inplace=True)\n",
    "UnemploymentRate45_54YFiltered = UnemploymentRate45_54Y[UnemploymentRate45_54Y['observation_date'] > '2005-12-01']"
   ]
  },
  {
   "cell_type": "code",
   "execution_count": null,
   "metadata": {},
   "outputs": [],
   "source": [
    "sns.set(style=\"darkgrid\")\n",
    "\n",
    "plt.figure(figsize=(50, 15))\n",
    "\n",
    "sns.lineplot(x='observation_date', y='UnemploymentRate_45-54Y', data=UnemploymentRate45_54YFiltered, label='Unemployment Rate 45 54Y', color='orange')\n",
    "\n",
    "plt.xticks(rotation=45)\n",
    "plt.title('Relationship between the Unemployment Rate 45 54Y and the Observation Time', fontsize=20)\n",
    "plt.xlabel('Date')\n",
    "plt.ylabel('Indicator Unemployment Rate 45 54Y')\n",
    "plt.legend(fontsize='large')\n",
    "plt.figtext(0.5, 0.01, \"Source: Federal Reserve Economic Data\", ha=\"center\", fontsize=18, bbox={\"facecolor\":\"orange\", \"alpha\":0.5, \"pad\":5})\n",
    "\n",
    "plt.show()\n"
   ]
  },
  {
   "cell_type": "markdown",
   "metadata": {},
   "source": [
    "### Unemployment Rate 55 - 64Y"
   ]
  },
  {
   "cell_type": "code",
   "execution_count": null,
   "metadata": {},
   "outputs": [],
   "source": [
    "sns.set(style=\"darkgrid\")\n",
    "\n",
    "plt.figure(figsize=(50, 15))\n",
    "\n",
    "sns.lineplot(x='observation_date', y='UnemploymentRate_55-64Y', data=UnemploymentRate55_64Y, label='Unemployment Rate 55 - 64Y', color='gray')\n",
    "plt.xticks(rotation=45)\n",
    "\n",
    "plt.title('Relationship between the Unemployment Rate 55 - 64Y and the Observation Time', fontsize=20)\n",
    "plt.xlabel('Date')\n",
    "plt.ylabel('Unemployment Rate 55 - 64Y')\n",
    "\n",
    "plt.legend(fontsize='large')\n",
    "plt.figtext(0.5, 0.01, \"Source: Federal Reserve Economic Data\", ha=\"center\", fontsize=18, bbox={\"facecolor\":\"orange\", \"alpha\":0.5, \"pad\":5})\n",
    "\n",
    "plt.show()"
   ]
  },
  {
   "cell_type": "code",
   "execution_count": null,
   "metadata": {},
   "outputs": [],
   "source": [
    "UnemploymentRate55_64Y.reset_index(inplace=True)\n",
    "UnemploymentRate55_64YFiltered = UnemploymentRate55_64Y[UnemploymentRate55_64Y['observation_date'] > '2005-12-01']"
   ]
  },
  {
   "cell_type": "code",
   "execution_count": null,
   "metadata": {},
   "outputs": [],
   "source": [
    "sns.set(style=\"darkgrid\")\n",
    "\n",
    "plt.figure(figsize=(50, 15))\n",
    "\n",
    "sns.lineplot(x='observation_date', y='UnemploymentRate_55-64Y', data=UnemploymentRate55_64YFiltered, label='Unemployment Rate 55 64Y', color='gray')\n",
    "\n",
    "plt.xticks(rotation=45)\n",
    "plt.title('Relationship between the Unemployment Rate 55 64Y and the Observation Time', fontsize=20)\n",
    "plt.xlabel('Date')\n",
    "plt.ylabel('Indicator Unemployment Rate 55 64Y')\n",
    "plt.legend(fontsize='large')\n",
    "plt.figtext(0.5, 0.01, \"Source: Federal Reserve Economic Data\", ha=\"center\", fontsize=18, bbox={\"facecolor\":\"orange\", \"alpha\":0.5, \"pad\":5})\n",
    "\n",
    "plt.show()\n"
   ]
  },
  {
   "cell_type": "markdown",
   "metadata": {},
   "source": [
    "### Unemployment Rate 65 - OverY"
   ]
  },
  {
   "cell_type": "code",
   "execution_count": null,
   "metadata": {},
   "outputs": [],
   "source": [
    "sns.set(style=\"darkgrid\")\n",
    "\n",
    "plt.figure(figsize=(50, 15))\n",
    "\n",
    "sns.lineplot(x='observation_date', y='UnemploymentRate_65-OverY', data=UnemploymentRate65_OverY, label='Unemployment Rate 65 - Over Years', color='#800000')\n",
    "plt.xticks(rotation=45)\n",
    "\n",
    "plt.title('Relationship between the Unemployment Rate 65 - Over Years and the Observation Time', fontsize=20)\n",
    "plt.xlabel('Date')\n",
    "plt.ylabel('Unemployment Rate 65 - Over Years (%)')\n",
    "\n",
    "plt.legend(fontsize='large')\n",
    "plt.figtext(0.5, 0.01, \"Source: Federal Reserve Economic Data\", ha=\"center\", fontsize=18, bbox={\"facecolor\":\"orange\", \"alpha\":0.5, \"pad\":5})\n",
    "\n",
    "plt.show()"
   ]
  },
  {
   "cell_type": "code",
   "execution_count": null,
   "metadata": {},
   "outputs": [],
   "source": [
    "UnemploymentRate65_OverY.reset_index(inplace=True)\n",
    "UnemploymentRate65_OverYFiltered = UnemploymentRate65_OverY[UnemploymentRate65_OverY['observation_date'] > '2005-12-01']"
   ]
  },
  {
   "cell_type": "code",
   "execution_count": null,
   "metadata": {},
   "outputs": [],
   "source": [
    "sns.set(style=\"darkgrid\")\n",
    "\n",
    "plt.figure(figsize=(50, 15))\n",
    "\n",
    "sns.lineplot(x='observation_date', y='UnemploymentRate_65-OverY', data=UnemploymentRate65_OverYFiltered, label='Unemployment Rate 65 - Over Years', color='#800000')\n",
    "plt.xticks(rotation=45)\n",
    "\n",
    "plt.title('Relationship between the Unemployment Rate 65 - Over Years and the Observation Time', fontsize=20)\n",
    "plt.xlabel('Date')\n",
    "plt.ylabel('Unemployment Rate 65 - Over Years (%)')\n",
    "\n",
    "plt.legend(fontsize='large')\n",
    "plt.figtext(0.5, 0.01, \"Source: Federal Reserve Economic Data\", ha=\"center\", fontsize=18, bbox={\"facecolor\":\"orange\", \"alpha\":0.5, \"pad\":5})\n",
    "\n",
    "plt.show()"
   ]
  },
  {
   "cell_type": "markdown",
   "metadata": {},
   "source": [
    "### Commercial and Industrial Loans, All Commercial Banks, Percent Change at Annual Rate"
   ]
  },
  {
   "cell_type": "code",
   "execution_count": null,
   "metadata": {},
   "outputs": [],
   "source": [
    "sns.set(style=\"darkgrid\")\n",
    "\n",
    "plt.figure(figsize=(50, 15))\n",
    "\n",
    "sns.lineplot(x='observation_date', y='Commercial and Industrial Loans, All Commercial Banks, Percent Change at Annual Rate', data=ComercialAndIndustrialLoans, label='Comercial and Industrial Loans', color='#98CBB4')\n",
    "plt.xticks(rotation=45)\n",
    "\n",
    "plt.title('Relationship between the Comercial and Industrial Loans and the Observation Time', fontsize=20)\n",
    "plt.xlabel('Date')\n",
    "plt.ylabel('Comercial and Industrial Loans (%)')\n",
    "\n",
    "plt.legend(fontsize='large')\n",
    "plt.figtext(0.5, 0.01, \"Source: Federal Reserve Economic Data\", ha=\"center\", fontsize=18, bbox={\"facecolor\":\"orange\", \"alpha\":0.5, \"pad\":5})\n",
    "\n",
    "plt.show()"
   ]
  },
  {
   "cell_type": "markdown",
   "metadata": {},
   "source": [
    "### Federal Debt Total Public Debt"
   ]
  },
  {
   "cell_type": "code",
   "execution_count": null,
   "metadata": {},
   "outputs": [],
   "source": [
    "sns.set(style=\"darkgrid\")\n",
    "\n",
    "plt.figure(figsize=(50, 15))\n",
    "\n",
    "sns.lineplot(x='observation_date', y='Federal Debt Total Public Debt as Percent of Gross Domestic Product, Percent of GDP', data=FederalDebt, label='Federal Debt', color='#6E0B0B')\n",
    "plt.xticks(rotation=45)\n",
    "\n",
    "plt.title('Relationship between the Federal Debt and the Observation Time', fontsize=20)\n",
    "plt.xlabel('Date')\n",
    "plt.ylabel('Federal Debt GDP (%)')\n",
    "\n",
    "plt.legend(fontsize='large')\n",
    "plt.figtext(0.5, 0.01, \"Source: Federal Reserve Economic Data\", ha=\"center\", fontsize=18, bbox={\"facecolor\":\"orange\", \"alpha\":0.5, \"pad\":5})\n",
    "\n",
    "plt.show()"
   ]
  },
  {
   "cell_type": "markdown",
   "metadata": {},
   "source": [
    "### Federal Debt in Millions of Dollares"
   ]
  },
  {
   "cell_type": "code",
   "execution_count": null,
   "metadata": {},
   "outputs": [],
   "source": [
    "sns.set(style=\"darkgrid\")\n",
    "\n",
    "plt.figure(figsize=(50, 15))\n",
    "\n",
    "sns.lineplot(x='observation_date', y='FederalDebt', data=FederalDebtDollares, label='Federal Debt in Millions Dollares', color='#839788')\n",
    "plt.xticks(rotation=45)\n",
    "\n",
    "plt.title('Relationship between the Federal Debt and the Observation Time', fontsize=20)\n",
    "plt.xlabel('Date')\n",
    "plt.ylabel('Federal Debt in Dollars (Millions)')\n",
    "\n",
    "plt.legend(fontsize='large')\n",
    "plt.figtext(0.5, 0.01, \"Source: Federal Reserve Economic Data\", ha=\"center\", fontsize=18, bbox={\"facecolor\":\"orange\", \"alpha\":0.5, \"pad\":5})\n",
    "\n",
    "plt.show()"
   ]
  },
  {
   "cell_type": "markdown",
   "metadata": {},
   "source": [
    "### FED Funds Rate and M2"
   ]
  },
  {
   "cell_type": "code",
   "execution_count": null,
   "metadata": {},
   "outputs": [],
   "source": [
    "sns.set(style=\"darkgrid\")\n",
    "\n",
    "plt.figure(figsize=(50, 15))\n",
    "\n",
    "sns.lineplot(x='observation_date', y='FedFundsRate', data=FedFundsRate, label='FED Funds Rate', color='blue')\n",
    "sns.lineplot(x='observation_date', y='M2_pct', data=M2, label='American M2', color='black')\n",
    "plt.xticks(rotation=45)\n",
    "\n",
    "plt.title('Relationship between the FED Funds Rate and the American M2', fontsize=20)\n",
    "plt.xlabel('Date')\n",
    "plt.ylabel('Comparison between FED Funds Rate and American M2')\n",
    "\n",
    "plt.legend(fontsize='large')\n",
    "plt.figtext(0.5, 0.01, \"Source: Federal Reserve Economic Data\", ha=\"center\", fontsize=18, bbox={\"facecolor\":\"orange\", \"alpha\":0.5, \"pad\":5})\n",
    "\n",
    "plt.show()"
   ]
  },
  {
   "cell_type": "markdown",
   "metadata": {},
   "source": [
    "### FED Funds Rate and Median CPI"
   ]
  },
  {
   "cell_type": "code",
   "execution_count": null,
   "metadata": {},
   "outputs": [],
   "source": [
    "sns.set(style=\"darkgrid\")\n",
    "\n",
    "plt.figure(figsize=(50, 15))\n",
    "\n",
    "sns.lineplot(x='observation_date', y='FedFundsRate', data=FedFundsRate, label='Federal Reserve Funds Rate', color='blue')\n",
    "sns.lineplot(x='observation_date', y='Median CPI', data=MedianCPI, label='CPI', color='red')\n",
    "plt.xticks(rotation=45)\n",
    "\n",
    "plt.title('Relationship between FED Funds Rate the and the CPI', fontsize=20)\n",
    "plt.xlabel('Date')\n",
    "plt.ylabel('Comparison between FED Funds Rate and CPI')\n",
    "\n",
    "plt.legend(fontsize='large')\n",
    "plt.figtext(0.5, 0.01, \"Source: Federal Reserve Economic Data\", ha=\"center\", fontsize=18, bbox={\"facecolor\":\"orange\", \"alpha\":0.5, \"pad\":5})\n",
    "\n",
    "plt.show()"
   ]
  },
  {
   "cell_type": "markdown",
   "metadata": {},
   "source": [
    "### FED Funds Rate and StickyCPI"
   ]
  },
  {
   "cell_type": "code",
   "execution_count": null,
   "metadata": {},
   "outputs": [],
   "source": [
    "sns.set(style=\"darkgrid\")\n",
    "\n",
    "plt.figure(figsize=(50, 15))\n",
    "\n",
    "sns.lineplot(x='observation_date', y='FedFundsRate', data=FedFundsRate, label='FED Funds Rate', color='blue')\n",
    "sns.lineplot(x='observation_date', y='StickyCPI', data=StickyCPI, label='StickyCPI', color='#8155BA')\n",
    "plt.xticks(rotation=45)\n",
    "\n",
    "plt.title('Relationship between the FED Funds Rate and the Sticky CPI', fontsize=20)\n",
    "plt.xlabel('Date')\n",
    "plt.ylabel('Comparison between FED Funds Rate and Sticky CPI (%)') \n",
    "\n",
    "plt.legend(fontsize='large')\n",
    "plt.figtext(0.5, 0.01, \"Source: Federal Reserve Economic Data\", ha=\"center\", fontsize=18, bbox={\"facecolor\":\"orange\", \"alpha\":0.5, \"pad\":5})\n",
    "\n",
    "plt.show()"
   ]
  },
  {
   "cell_type": "markdown",
   "metadata": {},
   "source": [
    "### Unemployments"
   ]
  },
  {
   "cell_type": "markdown",
   "metadata": {},
   "source": [
    "#### Comparison between Unemployments 25 - 34Y, 45 - 54Y, 55 - 64Y and 65 - Over Years."
   ]
  },
  {
   "cell_type": "code",
   "execution_count": null,
   "metadata": {},
   "outputs": [],
   "source": [
    "sns.set(style=\"darkgrid\")\n",
    "\n",
    "plt.figure(figsize=(50, 15))\n",
    "\n",
    "sns.lineplot(x='observation_date', y='UnemploymentRate_25-34Y', data=UnemploymentRate25_34Y, label='Unemployment Rate 25 - 34Y', color='purple')\n",
    "sns.lineplot(x='observation_date', y='UnemploymentRate_45-54Y', data=UnemploymentRate45_54Y, label='Unemployment Rate 45 - 54Y', color='orange')\n",
    "sns.lineplot(x='observation_date', y='UnemploymentRate_55-64Y', data=UnemploymentRate55_64Y, label='Unemployment Rate 55 - 64Y', color='gray')\n",
    "sns.lineplot(x='observation_date', y='UnemploymentRate_65-OverY', data=UnemploymentRate65_OverY, label='Unemployment Rate 65 - Over Years', color='#800000')\n",
    "plt.xticks(rotation=45)\n",
    "\n",
    "plt.title('Relationship between the Unemployments Rates', fontsize=20)\n",
    "plt.xlabel('Date')\n",
    "plt.ylabel('Indicator Unemployment Rate (%)')\n",
    "\n",
    "plt.legend(fontsize='large')\n",
    "plt.figtext(0.5, 0.01, \"Source: Federal Reserve Economic Data\", ha=\"center\", fontsize=18, bbox={\"facecolor\":\"orange\", \"alpha\":0.5, \"pad\":5})\n",
    "\n",
    "plt.show()"
   ]
  },
  {
   "cell_type": "markdown",
   "metadata": {},
   "source": [
    "#### Comparison between Unemployment Rate 25 - 34Y and 65 - Over Years."
   ]
  },
  {
   "cell_type": "code",
   "execution_count": null,
   "metadata": {},
   "outputs": [],
   "source": [
    "sns.set(style=\"darkgrid\")\n",
    "\n",
    "plt.figure(figsize=(50, 15))\n",
    "\n",
    "sns.lineplot(x='observation_date', y='UnemploymentRate_25-34Y', data=UnemploymentRate25_34Y, label='Unemployment Rate 25 - 34Y', color='purple')\n",
    "sns.lineplot(x='observation_date', y='UnemploymentRate_65-OverY', data=UnemploymentRate65_OverY, label='Unemployment Rate 65 - OverY', color='#800000')\n",
    "plt.xticks(rotation=45)\n",
    "\n",
    "plt.title('Relationship between the Unemployments Rates', fontsize=20)\n",
    "plt.xlabel('Date')\n",
    "plt.ylabel('Indicator Unemployment Rate (%)')\n",
    "\n",
    "plt.legend(fontsize='large')\n",
    "plt.figtext(0.5, 0.01, \"Source: Federal Reserve Economic Data\", ha=\"center\", fontsize=18, bbox={\"facecolor\":\"orange\", \"alpha\":0.5, \"pad\":5})\n",
    "\n",
    "plt.show()"
   ]
  },
  {
   "cell_type": "markdown",
   "metadata": {},
   "source": [
    "#### Unemployment Rate between 25 - 34Y and 45 - 54Y"
   ]
  },
  {
   "cell_type": "code",
   "execution_count": null,
   "metadata": {},
   "outputs": [],
   "source": [
    "sns.set(style=\"darkgrid\")\n",
    "\n",
    "plt.figure(figsize=(50, 15))\n",
    "\n",
    "sns.lineplot(x='observation_date', y='UnemploymentRate_25-34Y', data=UnemploymentRate25_34Y, label='Unemployment Rate 25 - 34Y', color='purple')\n",
    "sns.lineplot(x='observation_date', y='UnemploymentRate_45-54Y', data=UnemploymentRate45_54Y, label='Unemployment Rate 45 - 54Y', color='orange')\n",
    "plt.xticks(rotation=45)\n",
    "\n",
    "plt.title('Relationship between the Unemployments Rates', fontsize=20)\n",
    "plt.xlabel('Date')\n",
    "plt.ylabel('Indicator Unemployment Rate (%)')\n",
    "\n",
    "plt.legend(fontsize='large')\n",
    "plt.figtext(0.5, 0.01, \"Source: Federal Reserve Economic Data\", ha=\"center\", fontsize=18, bbox={\"facecolor\":\"orange\", \"alpha\":0.5, \"pad\":5})\n",
    "\n",
    "plt.show()"
   ]
  },
  {
   "cell_type": "markdown",
   "metadata": {},
   "source": [
    "#### Unemployments Rate 25 - 54 years and 55 - 64 years"
   ]
  },
  {
   "cell_type": "code",
   "execution_count": null,
   "metadata": {},
   "outputs": [],
   "source": [
    "sns.set(style=\"darkgrid\")\n",
    "\n",
    "plt.figure(figsize=(50, 15))\n",
    "\n",
    "sns.lineplot(x='observation_date', y='UnemploymentRate_25-34Y', data=UnemploymentRate25_34Y, label='Unemployment Rate 25 - 34Y', color='purple')\n",
    "sns.lineplot(x='observation_date', y='UnemploymentRate_55-64Y', data=UnemploymentRate55_64Y, label='Unemployment Rate 55 - 64Y', color='gray')\n",
    "plt.xticks(rotation=45)\n",
    "\n",
    "plt.title('Relationship between the Unemployments Rates', fontsize=20)\n",
    "plt.xlabel('Date')\n",
    "plt.ylabel('Indicator Unemployment Rate (%)')\n",
    "\n",
    "plt.legend(fontsize='large')\n",
    "plt.figtext(0.5, 0.01, \"Source: Federal Reserve Economic Data\", ha=\"center\", fontsize=18, bbox={\"facecolor\":\"orange\", \"alpha\":0.5, \"pad\":5})\n",
    "\n",
    "plt.show()"
   ]
  },
  {
   "cell_type": "markdown",
   "metadata": {},
   "source": [
    "#### Unemployment Rate 45-54 Years vs. 55-64 Years"
   ]
  },
  {
   "cell_type": "code",
   "execution_count": null,
   "metadata": {},
   "outputs": [],
   "source": [
    "sns.set(style=\"darkgrid\")\n",
    "\n",
    "plt.figure(figsize=(50, 15))\n",
    "\n",
    "sns.lineplot(x='observation_date', y='UnemploymentRate_55-64Y', data=UnemploymentRate55_64Y, label='Unemployment Rate 55 - 64Y', color='gray')\n",
    "sns.lineplot(x='observation_date', y='UnemploymentRate_45-54Y', data=UnemploymentRate45_54Y, label='Unemployment Rate 45 - 54Y', color='orange')\n",
    "plt.xticks(rotation=45)\n",
    "\n",
    "plt.title('Relationship between the Unemployments Rates', fontsize=20)\n",
    "plt.xlabel('Date')\n",
    "plt.ylabel('Indicator Unemployment Rate (%)')\n",
    "\n",
    "plt.legend(fontsize='large')\n",
    "plt.figtext(0.5, 0.01, \"Source: Federal Reserve Economic Data\", ha=\"center\", fontsize=18, bbox={\"facecolor\":\"orange\", \"alpha\":0.5, \"pad\":5})\n",
    "\n",
    "plt.show()"
   ]
  },
  {
   "cell_type": "markdown",
   "metadata": {},
   "source": [
    "#### Unemployment Rate between 45-54 Years vs. 65 Years and Over"
   ]
  },
  {
   "cell_type": "code",
   "execution_count": null,
   "metadata": {},
   "outputs": [],
   "source": [
    "sns.set(style=\"darkgrid\")\n",
    "\n",
    "plt.figure(figsize=(50, 15))\n",
    "\n",
    "sns.lineplot(x='observation_date', y='UnemploymentRate_65-OverY', data=UnemploymentRate65_OverY, label='Unemployment Rate 65 - OverY', color='#800000')\n",
    "sns.lineplot(x='observation_date', y='UnemploymentRate_45-54Y', data=UnemploymentRate45_54Y, label='Unemployment Rate 45 - 54Y', color='orange')\n",
    "plt.xticks(rotation=45)\n",
    "\n",
    "plt.title('Relationship between the Unemployments Rates', fontsize=20)\n",
    "plt.xlabel('Date')\n",
    "plt.ylabel('Indicator Unemployment Rate (%)')\n",
    "\n",
    "plt.legend(fontsize='large')\n",
    "plt.figtext(0.5, 0.01, \"Source: Federal Reserve Economic Data\", ha=\"center\", fontsize=18, bbox={\"facecolor\":\"orange\", \"alpha\":0.5, \"pad\":5})\n",
    "\n",
    "plt.show()"
   ]
  },
  {
   "cell_type": "markdown",
   "metadata": {},
   "source": [
    "#### Unemployment Rate between 55 - 64Y and 65 - Over Years."
   ]
  },
  {
   "cell_type": "code",
   "execution_count": null,
   "metadata": {},
   "outputs": [],
   "source": [
    "sns.set(style=\"darkgrid\")\n",
    "\n",
    "plt.figure(figsize=(50, 15))\n",
    "\n",
    "sns.lineplot(x='observation_date', y='UnemploymentRate_55-64Y', data=UnemploymentRate55_64Y, label='Unemployment Rate 55 - 64Y', color='gray')\n",
    "sns.lineplot(x='observation_date', y='UnemploymentRate_65-OverY', data=UnemploymentRate65_OverY, label='Unemployment Rate 65 - OverY', color='#800000')\n",
    "plt.xticks(rotation=45)\n",
    "\n",
    "plt.title('Relationship between the Unemployments Rates', fontsize=20)\n",
    "plt.xlabel('Date')\n",
    "plt.ylabel('Indicator Unemployment Rate (%)')\n",
    "\n",
    "plt.legend(fontsize='large')\n",
    "plt.figtext(0.5, 0.01, \"Source: Federal Reserve Economic Data\", ha=\"center\", fontsize=18, bbox={\"facecolor\":\"orange\", \"alpha\":0.5, \"pad\":5})\n",
    "\n",
    "plt.show()"
   ]
  },
  {
   "cell_type": "markdown",
   "metadata": {},
   "source": [
    "#### Unemployment Rate between 25 - 34Y, 55 - 64Y and 65 - Over Years."
   ]
  },
  {
   "cell_type": "code",
   "execution_count": null,
   "metadata": {},
   "outputs": [],
   "source": [
    "sns.set(style=\"darkgrid\")\n",
    "\n",
    "plt.figure(figsize=(50, 15))\n",
    "\n",
    "sns.lineplot(x='observation_date', y='UnemploymentRate_25-34Y', data=UnemploymentRate25_34Y, label='Unemployment Rate 25 - 34Y', color='purple')\n",
    "sns.lineplot(x='observation_date', y='UnemploymentRate_55-64Y', data=UnemploymentRate55_64Y, label='Unemployment Rate 55 - 64Y', color='gray')\n",
    "sns.lineplot(x='observation_date', y='UnemploymentRate_65-OverY', data=UnemploymentRate65_OverY, label='Unemployment Rate 65 - OverY', color='#800000')\n",
    "plt.xticks(rotation=45)\n",
    "\n",
    "plt.title('Relationship between the Unemployments Rates', fontsize=20)\n",
    "plt.xlabel('Date')\n",
    "plt.ylabel('Indicator Unemployment Rate (%)')\n",
    "\n",
    "plt.legend(fontsize='large')\n",
    "plt.figtext(0.5, 0.01, \"Source: Federal Reserve Economic Data\", ha=\"center\", fontsize=18, bbox={\"facecolor\":\"orange\", \"alpha\":0.5, \"pad\":5})\n",
    "\n",
    "plt.show()"
   ]
  },
  {
   "cell_type": "markdown",
   "metadata": {},
   "source": [
    "### FED Funds Rate and Unemployment"
   ]
  },
  {
   "cell_type": "markdown",
   "metadata": {},
   "source": [
    "#### Relationship between Fed Funds Rate and Unemployment 25 - 34Y"
   ]
  },
  {
   "cell_type": "code",
   "execution_count": null,
   "metadata": {},
   "outputs": [],
   "source": [
    "sns.set(style=\"darkgrid\")\n",
    "\n",
    "plt.figure(figsize=(50, 15))\n",
    "\n",
    "sns.lineplot(x='observation_date', y='UnemploymentRate_25-34Y', data=UnemploymentRate25_34Y, label='Unemployment Rate 25 - 34Y', color='purple')\n",
    "sns.lineplot(x='observation_date', y='FedFundsRate', data=FedFundsRate, label='FED Funds Rate', color='blue')\n",
    "plt.xticks(rotation=45)\n",
    "\n",
    "plt.title('Relationship between the Unemployments Rates', fontsize=20)\n",
    "plt.xlabel('Date')\n",
    "plt.ylabel('Indicator Unemployment Rate (%)')\n",
    "\n",
    "plt.legend(fontsize='large')\n",
    "plt.figtext(0.5, 0.01, \"Source: Federal Reserve Economic Data\", ha=\"center\", fontsize=18, bbox={\"facecolor\":\"orange\", \"alpha\":0.5, \"pad\":5})\n",
    "\n",
    "plt.show()"
   ]
  },
  {
   "cell_type": "code",
   "execution_count": null,
   "metadata": {},
   "outputs": [],
   "source": [
    "UnemploymentRate25_34YFiltered = UnemploymentRate25_34Y[UnemploymentRate25_34Y['observation_date'] > '1970-01-01']"
   ]
  },
  {
   "cell_type": "code",
   "execution_count": null,
   "metadata": {},
   "outputs": [],
   "source": [
    "FedFundsRate.reset_index(inplace=True)\n",
    "FedFundsRateFiltered = FedFundsRate[FedFundsRate['observation_date'] > '1970-01-01']"
   ]
  },
  {
   "cell_type": "code",
   "execution_count": null,
   "metadata": {},
   "outputs": [],
   "source": [
    "sns.set(style=\"darkgrid\")\n",
    "\n",
    "plt.figure(figsize=(50, 15))\n",
    "\n",
    "sns.lineplot(x='observation_date', y='FedFundsRate', data=FedFundsRateFiltered, label='Fed Funds Rate', color='blue')\n",
    "sns.lineplot(x='observation_date', y='UnemploymentRate_25-34Y', data=UnemploymentRate25_34YFiltered, label='Unemployment Rate 25 - 34Y', color='purple')\n",
    "plt.xticks(rotation=45)\n",
    "\n",
    "plt.title('Relationship between the Unemployment Rate and Fed Funds Rate', fontsize=20)\n",
    "plt.xlabel('Date')\n",
    "plt.ylabel('Indicator Unemployment Rate (%)')\n",
    "\n",
    "plt.legend(fontsize='large')\n",
    "plt.figtext(0.5, 0.01, \"Source: Federal Reserve Economic Data\", ha=\"center\", fontsize=18, bbox={\"facecolor\":\"orange\", \"alpha\":0.5, \"pad\":5})\n",
    "\n",
    "plt.show()"
   ]
  },
  {
   "cell_type": "markdown",
   "metadata": {},
   "source": [
    "### Relationship between Fed Funds Rate and Unemployment Rate 55 - 64Y"
   ]
  },
  {
   "cell_type": "code",
   "execution_count": null,
   "metadata": {},
   "outputs": [],
   "source": [
    "UnemploymentRate55_64YFiltered = UnemploymentRate55_64Y[UnemploymentRate55_64Y['observation_date'] > '1970-01-01']"
   ]
  },
  {
   "cell_type": "code",
   "execution_count": null,
   "metadata": {},
   "outputs": [],
   "source": [
    "sns.set(style=\"darkgrid\")\n",
    "\n",
    "plt.figure(figsize=(50, 15))\n",
    "\n",
    "sns.lineplot(x='observation_date', y='FedFundsRate', data=FedFundsRateFiltered, label='Fed Funds Rate', color='blue')\n",
    "sns.lineplot(x='observation_date', y='UnemploymentRate_55-64Y', data=UnemploymentRate55_64YFiltered, label='Unemployment Rate 55 - 64Y', color='gray')\n",
    "plt.xticks(rotation=45)\n",
    "\n",
    "plt.title('Relationship between the Unemployment Rate and Fed Funds Rate', fontsize=20)\n",
    "plt.xlabel('Date')\n",
    "plt.ylabel('Indicator Unemployment Rate (%)')\n",
    "\n",
    "plt.legend(fontsize='large')\n",
    "plt.figtext(0.5, 0.01, \"Source: Federal Reserve Economic Data\", ha=\"center\", fontsize=18, bbox={\"facecolor\":\"orange\", \"alpha\":0.5, \"pad\":5})\n",
    "\n",
    "plt.show()"
   ]
  },
  {
   "cell_type": "markdown",
   "metadata": {},
   "source": [
    "#### Relationship between Fed Funds Rate and Unemployment Rate 65 - Over Years"
   ]
  },
  {
   "cell_type": "code",
   "execution_count": null,
   "metadata": {},
   "outputs": [],
   "source": [
    "sns.set(style=\"darkgrid\")\n",
    "\n",
    "plt.figure(figsize=(50, 15))\n",
    "\n",
    "sns.lineplot(x='observation_date', y='FedFundsRate', data=FedFundsRate, label='Fed Funds Rate', color='blue')\n",
    "sns.lineplot(x='observation_date', y='UnemploymentRate_65-OverY', data=UnemploymentRate65_OverY, label='Unemployment Rate 65 - OverY', color='#800000')\n",
    "plt.xticks(rotation=45)\n",
    "\n",
    "plt.title('Relationship between the Unemployment Rate 65 Over and Fed Funds Rate', fontsize=20)\n",
    "plt.xlabel('Date')\n",
    "plt.ylabel('Indicator Unemployment Rate (%)')\n",
    "\n",
    "plt.legend(fontsize='large')\n",
    "plt.figtext(0.5, 0.01, \"Source: Federal Reserve Economic Data\", ha=\"center\", fontsize=18, bbox={\"facecolor\":\"orange\", \"alpha\":0.5, \"pad\":5})\n",
    "\n",
    "plt.show()"
   ]
  },
  {
   "cell_type": "code",
   "execution_count": null,
   "metadata": {},
   "outputs": [],
   "source": [
    "UnemploymentRate65_OverY.reset_index(inplace=True)\n",
    "UnemploymentRate65_OverYFiltered = UnemploymentRate65_OverY[UnemploymentRate65_OverY['observation_date'] > '1970-01-01']"
   ]
  },
  {
   "cell_type": "code",
   "execution_count": null,
   "metadata": {},
   "outputs": [],
   "source": [
    "sns.set(style=\"darkgrid\")\n",
    "\n",
    "plt.figure(figsize=(50, 15))\n",
    "\n",
    "sns.lineplot(x='observation_date', y='FedFundsRate', data=FedFundsRateFiltered, label='Fed Funds Rate', color='blue')\n",
    "sns.lineplot(x='observation_date', y='UnemploymentRate_65-OverY', data=UnemploymentRate65_OverYFiltered, label='Unemployment Rate 65 - OverY', color='#800000')\n",
    "plt.xticks(rotation=45)\n",
    "\n",
    "plt.title('Relationship between the Unemployment Rate and Fed Funds Rate', fontsize=20)\n",
    "plt.xlabel('Date')\n",
    "plt.ylabel('Indicator Unemployment Rate (%)')\n",
    "\n",
    "plt.legend(fontsize='large')\n",
    "plt.figtext(0.5, 0.01, \"Source: Federal Reserve Economic Data\", ha=\"center\", fontsize=18, bbox={\"facecolor\":\"orange\", \"alpha\":0.5, \"pad\":5})\n",
    "\n",
    "plt.show()"
   ]
  },
  {
   "cell_type": "markdown",
   "metadata": {},
   "source": [
    "### Federal Debt and Commercial and Industrial Loans"
   ]
  },
  {
   "cell_type": "code",
   "execution_count": null,
   "metadata": {},
   "outputs": [],
   "source": [
    "sns.set(style=\"darkgrid\")\n",
    "\n",
    "plt.figure(figsize=(50, 15))\n",
    "\n",
    "sns.lineplot(x='observation_date', y='Federal Debt Total Public Debt as Percent of Gross Domestic Product, Percent of GDP', data=FederalDebt, label='Federal Debt', color='#6E0B0B')\n",
    "sns.lineplot(x='observation_date', y='Commercial and Industrial Loans, All Commercial Banks, Percent Change at Annual Rate', data=ComercialAndIndustrialLoans, label='Comercial and Industrial Loans', color='#98CBB4')\n",
    "\n",
    "plt.xticks(rotation=45)\n",
    "\n",
    "plt.title('Relationship between the Unemployments Rates', fontsize=20)\n",
    "plt.xlabel('Date')\n",
    "plt.ylabel('Indicator Unemployment Rate (%)')\n",
    "\n",
    "plt.legend(fontsize='large')\n",
    "plt.figtext(0.5, 0.01, \"Source: Federal Reserve Economic Data\", ha=\"center\", fontsize=18, bbox={\"facecolor\":\"orange\", \"alpha\":0.5, \"pad\":5})\n",
    "\n",
    "plt.show()"
   ]
  }
 ],
 "metadata": {
  "kernelspec": {
   "display_name": "Python 3",
   "language": "python",
   "name": "python3"
  },
  "language_info": {
   "codemirror_mode": {
    "name": "ipython",
    "version": 3
   },
   "file_extension": ".py",
   "mimetype": "text/x-python",
   "name": "python",
   "nbconvert_exporter": "python",
   "pygments_lexer": "ipython3",
   "version": "3.11.1"
  }
 },
 "nbformat": 4,
 "nbformat_minor": 2
}
