{
 "cells": [
  {
   "cell_type": "markdown",
   "metadata": {},
   "source": [
    "# Starting Machine Learning Model"
   ]
  },
  {
   "cell_type": "markdown",
   "metadata": {},
   "source": [
    "## Importing Libs"
   ]
  },
  {
   "cell_type": "code",
   "execution_count": null,
   "metadata": {},
   "outputs": [],
   "source": [
    "import pandas as pd\n",
    "import matplotlib.pyplot as plt\n",
    "import pycaret as pc\n",
    "from pycaret.regression import setup, compare_models\n",
    "import numpy as np\n",
    "import seaborn as sns"
   ]
  },
  {
   "cell_type": "markdown",
   "metadata": {},
   "source": [
    "## Reading the Data"
   ]
  },
  {
   "cell_type": "code",
   "execution_count": null,
   "metadata": {},
   "outputs": [],
   "source": [
    "def resetIndex(data):\n",
    "    data = data.reset_index()\n",
    "    return data.head()"
   ]
  },
  {
   "cell_type": "code",
   "execution_count": null,
   "metadata": {},
   "outputs": [],
   "source": [
    "FedFundsRate = pd.read_excel('../data/FedFundsRate.xlsx', index_col=0, engine='openpyxl')\n",
    "resetIndex(FedFundsRate)"
   ]
  },
  {
   "cell_type": "code",
   "execution_count": null,
   "metadata": {},
   "outputs": [],
   "source": [
    "M2 = pd.read_excel('../data/M2.xlsx', index_col=0, engine='openpyxl')\n",
    "resetIndex(M2)"
   ]
  },
  {
   "cell_type": "code",
   "execution_count": null,
   "metadata": {},
   "outputs": [],
   "source": [
    "Median_CPI = pd.read_excel('../data/Median_CPI.xlsx', index_col=0, engine='openpyxl')\n",
    "resetIndex(Median_CPI)"
   ]
  },
  {
   "cell_type": "code",
   "execution_count": null,
   "metadata": {},
   "outputs": [],
   "source": [
    "Stick_CPI = pd.read_excel('../data/StickyCPI_Less_Food_And_Energy.xlsx', index_col=0, engine='openpyxl')\n",
    "resetIndex(Stick_CPI)"
   ]
  },
  {
   "cell_type": "code",
   "execution_count": null,
   "metadata": {},
   "outputs": [],
   "source": [
    "UnemploymentRate_25_34Y = pd.read_excel('../data/UnemploymentRate_25-34Y.xlsx', index_col=0, engine='openpyxl')\n",
    "resetIndex(UnemploymentRate_25_34Y)"
   ]
  },
  {
   "cell_type": "code",
   "execution_count": null,
   "metadata": {},
   "outputs": [],
   "source": [
    "UnemploymentRate_45_54Y = pd.read_excel('../data/UnemploymentRate_45-54Y.xlsx', index_col=0, engine='openpyxl')\n",
    "resetIndex(UnemploymentRate_45_54Y)"
   ]
  },
  {
   "cell_type": "code",
   "execution_count": null,
   "metadata": {},
   "outputs": [],
   "source": [
    "UnemploymentRate_55_64Y = pd.read_excel('../data/UnemploymentRate_55-64Y.xlsx', index_col=0, engine='openpyxl')\n",
    "resetIndex(UnemploymentRate_55_64Y)"
   ]
  },
  {
   "cell_type": "code",
   "execution_count": null,
   "metadata": {},
   "outputs": [],
   "source": [
    "UnemploymentRate_65_OverY = pd.read_excel('../data/UnemploymentRate_65-OverY.xlsx', index_col=0, engine='openpyxl')\n",
    "resetIndex(UnemploymentRate_65_OverY)"
   ]
  },
  {
   "cell_type": "code",
   "execution_count": null,
   "metadata": {},
   "outputs": [],
   "source": [
    "ComercialAndIndustrialLoans = pd.read_excel('../data/Commercial and Industrial Loans, All Commercial Banks, Percent Change at Annual Rate.xlsx', index_col=0, engine='openpyxl')\n",
    "resetIndex(ComercialAndIndustrialLoans)"
   ]
  },
  {
   "cell_type": "code",
   "execution_count": null,
   "metadata": {},
   "outputs": [],
   "source": [
    "FederalDebt = pd.read_excel('../data/Federal Debt Total Public Debt as Percent of Gross Domestic Product, Percent of GDP.xlsx', index_col=0, engine='openpyxl')\n",
    "resetIndex(FederalDebt)"
   ]
  },
  {
   "cell_type": "code",
   "execution_count": null,
   "metadata": {},
   "outputs": [],
   "source": [
    "FederalDebt = FederalDebt.resample('D').ffill()\n",
    "\n",
    "FederalDebt.reset_index(inplace=True)\n",
    "\n",
    "FederalDebt.head()\n"
   ]
  },
  {
   "cell_type": "markdown",
   "metadata": {},
   "source": [
    "## Merge Data"
   ]
  },
  {
   "cell_type": "code",
   "execution_count": null,
   "metadata": {},
   "outputs": [],
   "source": [
    "def merge(*dfs):\n",
    "    if len(dfs) < 2:\n",
    "        raise ValueError(\"Insufficient number of DataFrames to merge. Please provide at least 2 DataFrames.\")\n",
    "    \n",
    "    merged_df = dfs[0]\n",
    "    \n",
    "    for df in dfs[1:]:\n",
    "        merged_df = pd.merge(merged_df, df, on='observation_date', how='inner')\n",
    "    \n",
    "    return merged_df"
   ]
  },
  {
   "cell_type": "code",
   "execution_count": null,
   "metadata": {},
   "outputs": [],
   "source": [
    "merged_df = merge(FedFundsRate, M2, Median_CPI, Stick_CPI, UnemploymentRate_25_34Y, UnemploymentRate_45_54Y, UnemploymentRate_55_64Y, UnemploymentRate_65_OverY, ComercialAndIndustrialLoans, FederalDebt)\n",
    "resetIndex(merged_df)"
   ]
  },
  {
   "cell_type": "markdown",
   "metadata": {},
   "source": [
    "## Testing Models"
   ]
  },
  {
   "cell_type": "code",
   "execution_count": null,
   "metadata": {},
   "outputs": [],
   "source": [
    "merged_df.to_excel('../data/merged_df.xlsx')"
   ]
  },
  {
   "cell_type": "code",
   "execution_count": null,
   "metadata": {},
   "outputs": [],
   "source": [
    "merged_df = pd.read_excel('../data/merged_df.xlsx', index_col=0, engine='openpyxl')\n",
    "merged_df = merged_df.reset_index()\n",
    "merged_df = merged_df.drop(columns=['observation_date', 'index'])\n",
    "merged_df.head()"
   ]
  },
  {
   "cell_type": "markdown",
   "metadata": {},
   "source": [
    "### Finding the best model"
   ]
  },
  {
   "cell_type": "code",
   "execution_count": null,
   "metadata": {},
   "outputs": [],
   "source": [
    "setup(merged_df, target='Median CPI')\n",
    "\n",
    "best_model = compare_models()"
   ]
  },
  {
   "cell_type": "markdown",
   "metadata": {},
   "source": [
    "### Importing Libs"
   ]
  },
  {
   "cell_type": "code",
   "execution_count": null,
   "metadata": {},
   "outputs": [],
   "source": [
    "from sklearn.model_selection import GridSearchCV\n",
    "from sklearn.ensemble import ExtraTreesRegressor\n",
    "from sklearn.model_selection import train_test_split\n",
    "from sklearn.impute import SimpleImputer\n",
    "from sklearn.linear_model import BayesianRidge\n",
    "from sklearn.linear_model import Ridge\n",
    "from sklearn.linear_model import LinearRegression\n",
    "from sklearn.neighbors import KNeighborsRegressor\n",
    "from sklearn.ensemble import ExtraTreesRegressor\n",
    "from sklearn.model_selection import cross_val_score\n",
    "from sklearn.feature_selection import SelectFromModel"
   ]
  },
  {
   "cell_type": "markdown",
   "metadata": {},
   "source": [
    "### BayesianRidge"
   ]
  },
  {
   "cell_type": "code",
   "execution_count": null,
   "metadata": {},
   "outputs": [],
   "source": [
    "imputer = SimpleImputer(strategy='mean')  \n",
    "num_cols = merged_df.select_dtypes(include=[np.number]).columns\n",
    "df_imputed = pd.DataFrame(imputer.fit_transform(merged_df[num_cols]), columns=num_cols)\n",
    "\n",
    "X = df_imputed.drop('Median CPI', axis=1)\n",
    "y = df_imputed['Median CPI']\n",
    "\n",
    "param_grid = {\n",
    "    'alpha_1': [1e-6, 1e-5, 1e-4],\n",
    "    'alpha_2': [1e-6, 1e-5, 1e-4],\n",
    "    'lambda_1': [1e-6, 1e-5, 1e-4],\n",
    "    'lambda_2': [1e-6, 1e-5, 1e-4],\n",
    "}\n",
    "\n",
    "X_train, X_test, y_train, y_test = train_test_split(X, y, test_size=0.45, random_state=42)\n",
    "\n",
    "bayesian_ridge = BayesianRidge()\n",
    "\n",
    "grid_search = GridSearchCV(estimator=bayesian_ridge, param_grid=param_grid, cv=3, n_jobs=-1, verbose=2)\n",
    "grid_search.fit(X_train, y_train)\n",
    "\n",
    "best_params = grid_search.best_params_\n",
    "\n",
    "print(\"Best Params: \", best_params)"
   ]
  },
  {
   "cell_type": "code",
   "execution_count": null,
   "metadata": {},
   "outputs": [],
   "source": [
    "imputer = SimpleImputer(strategy='mean')  \n",
    "num_cols = merged_df.select_dtypes(include=[np.number]).columns\n",
    "df_imputed = pd.DataFrame(imputer.fit_transform(merged_df[num_cols]), columns=num_cols)\n",
    "\n",
    "X = df_imputed.drop('Median CPI', axis=1)\n",
    "y = df_imputed['Median CPI']\n",
    "\n",
    "X_train, X_test, y_train, y_test = train_test_split(X, y, test_size=0.3, random_state=42)\n",
    "\n",
    "bayesian_ridge = BayesianRidge()\n",
    "\n",
    "bayesian_ridge.fit(X_train, y_train)\n",
    "\n",
    "scores = cross_val_score(bayesian_ridge, X_train, y_train, cv=5) \n",
    "print(f\"Cross-validation accuracy: {scores.mean()} (+/- {scores.std() * 2})\")\n",
    "\n",
    "test_score = bayesian_ridge.score(X_test, y_test)\n",
    "print(f\"Test data accuracy: {test_score}\")\n",
    "\n",
    "final_decision = bayesian_ridge.predict(X_test[-1:])\n",
    "print(\"Final Decision: \", final_decision)"
   ]
  },
  {
   "cell_type": "markdown",
   "metadata": {},
   "source": [
    "### Ridge"
   ]
  },
  {
   "cell_type": "code",
   "execution_count": null,
   "metadata": {},
   "outputs": [],
   "source": [
    "imputer = SimpleImputer(strategy='mean')  \n",
    "num_cols = merged_df.select_dtypes(include=[np.number]).columns\n",
    "df_imputed = pd.DataFrame(imputer.fit_transform(merged_df[num_cols]), columns=num_cols)\n",
    "\n",
    "X = df_imputed.drop('Median CPI', axis=1)\n",
    "y = df_imputed['Median CPI']\n",
    "\n",
    "param_grid = {\n",
    "    'alpha': [0.1, 1.0, 10.0],\n",
    "    'solver': ['auto', 'svd', 'cholesky', 'lsqr', 'sparse_cg', 'sag', 'saga']\n",
    "}\n",
    "\n",
    "X_train, X_test, y_train, y_test = train_test_split(X, y, test_size=0.35, random_state=42)\n",
    "\n",
    "ridge = Ridge()\n",
    "\n",
    "grid_search = GridSearchCV(estimator=ridge, param_grid=param_grid, cv=3, n_jobs=-1, verbose=2)\n",
    "grid_search.fit(X_train, y_train)\n",
    "\n",
    "best_params = grid_search.best_params_\n",
    "\n",
    "print(\"Best Params: \", best_params)"
   ]
  },
  {
   "cell_type": "code",
   "execution_count": null,
   "metadata": {},
   "outputs": [],
   "source": [
    "ridge = Ridge(**best_params, random_state=42)\n",
    "\n",
    "selector = SelectFromModel(estimator=ridge).fit(X_train, y_train)\n",
    "X_train_selected = selector.transform(X_train)\n",
    "X_test_selected = selector.transform(X_test)\n",
    "\n",
    "ridge.fit(X_train_selected, y_train)\n",
    "\n",
    "scores = cross_val_score(ridge, X_train_selected, y_train, cv=5) \n",
    "print(f\"Cross-validation accuracy: {scores.mean()} (+/- {scores.std() * 2})\")\n",
    "\n",
    "y_pred = ridge.predict(X_test_selected)\n",
    "\n",
    "test_score = ridge.score(X_test_selected, y_test)\n",
    "print(f\"Test data accuracy: {test_score}\")\n",
    "\n",
    "final_decision = ridge.predict(X_test_selected[-1:])\n",
    "print(\"Final Decision: \", final_decision)"
   ]
  },
  {
   "cell_type": "markdown",
   "metadata": {},
   "source": [
    "### Linear Regression"
   ]
  },
  {
   "cell_type": "code",
   "execution_count": null,
   "metadata": {},
   "outputs": [],
   "source": [
    "imputer = SimpleImputer(strategy='mean')  \n",
    "num_cols = merged_df.select_dtypes(include=[np.number]).columns\n",
    "df_imputed = pd.DataFrame(imputer.fit_transform(merged_df[num_cols]), columns=num_cols)\n",
    "\n",
    "X = df_imputed.drop('Median CPI', axis=1)\n",
    "y = df_imputed['Median CPI']\n",
    "\n",
    "param_grid = {\n",
    "    'fit_intercept': [True, False],\n",
    "    'positive': [True, False],\n",
    "    'copy_X': [True, False]\n",
    "}\n",
    "\n",
    "X_train, X_test, y_train, y_test = train_test_split(X, y, test_size=0.35, random_state=42)\n",
    "\n",
    "linear_reg = LinearRegression()\n",
    "\n",
    "grid_search = GridSearchCV(estimator=linear_reg, param_grid=param_grid, cv=3, n_jobs=-1, verbose=2)\n",
    "grid_search.fit(X_train, y_train)\n",
    "\n",
    "best_params = grid_search.best_params_\n",
    "\n",
    "print(\"Best Params: \", best_params)"
   ]
  },
  {
   "cell_type": "code",
   "execution_count": null,
   "metadata": {},
   "outputs": [],
   "source": [
    "imputer = SimpleImputer(strategy='mean')  \n",
    "num_cols = merged_df.select_dtypes(include=[np.number]).columns\n",
    "df_imputed = pd.DataFrame(imputer.fit_transform(merged_df[num_cols]), columns=num_cols)\n",
    "\n",
    "X = df_imputed.drop('Median CPI', axis=1)\n",
    "y = df_imputed['Median CPI']\n",
    "\n",
    "X_train, X_test, y_train, y_test = train_test_split(X, y, test_size=0.35, random_state=42)\n",
    "\n",
    "linear_reg = LinearRegression()\n",
    "\n",
    "linear_reg.fit(X_train, y_train)\n",
    "\n",
    "scores = cross_val_score(linear_reg, X_train, y_train, cv=5) \n",
    "print(f\"Cross-validation accuracy: {scores.mean()} (+/- {scores.std() * 2})\")\n",
    "\n",
    "test_score = linear_reg.score(X_test, y_test)\n",
    "print(f\"Test data accuracy: {test_score}\")\n",
    "\n",
    "final_decision = linear_reg.predict(X_test[-1:])\n",
    "print(\"Final Decision: \", final_decision)"
   ]
  },
  {
   "cell_type": "markdown",
   "metadata": {},
   "source": [
    "### K Neighbors Regressor"
   ]
  },
  {
   "cell_type": "code",
   "execution_count": null,
   "metadata": {},
   "outputs": [],
   "source": [
    "imputer = SimpleImputer(strategy='mean')  \n",
    "\n",
    "num_cols = merged_df.select_dtypes(include=[np.number]).columns\n",
    "\n",
    "df_imputed = pd.DataFrame(imputer.fit_transform(merged_df[num_cols]), columns=num_cols)\n",
    "\n",
    "X = df_imputed.drop('Median CPI', axis=1)\n",
    "y = df_imputed['Median CPI']\n",
    "\n",
    "param_grid = {\n",
    "    'n_neighbors': [3, 5, 7, 9],\n",
    "    'weights': ['uniform', 'distance'],\n",
    "    'algorithm': ['auto', 'ball_tree', 'kd_tree', 'brute'],\n",
    "    'leaf_size': [10, 20, 30, 40, 50],\n",
    "    'p': [1, 2]\n",
    "}\n",
    "\n",
    "X_train, X_test, y_train, y_test = train_test_split(X, y, test_size=0.35, random_state=42)\n",
    "\n",
    "knn = KNeighborsRegressor()\n",
    "\n",
    "grid_search = GridSearchCV(estimator=knn, param_grid=param_grid, cv=3, n_jobs=-1, verbose=2)\n",
    "grid_search.fit(X_train, y_train)\n",
    "\n",
    "best_params = grid_search.best_params_\n",
    "\n",
    "print(\"Best Params: \", best_params)"
   ]
  },
  {
   "cell_type": "code",
   "execution_count": null,
   "metadata": {},
   "outputs": [],
   "source": [
    "imputer = SimpleImputer(strategy='mean')  \n",
    "num_cols = merged_df.select_dtypes(include=[np.number]).columns\n",
    "df_imputed = pd.DataFrame(imputer.fit_transform(merged_df[num_cols]), columns=num_cols)\n",
    "\n",
    "X = df_imputed.drop('Median CPI', axis=1)\n",
    "y = df_imputed['Median CPI']\n",
    "\n",
    "X_train, X_test, y_train, y_test = train_test_split(X, y, test_size=0.3, random_state=42)\n",
    "\n",
    "knn = KNeighborsRegressor(**best_params)\n",
    "\n",
    "knn.fit(X_train, y_train)\n",
    "\n",
    "scores = cross_val_score(knn, X_train, y_train, cv=5) \n",
    "print(f\"Cross-validation accuracy: {scores.mean()} (+/- {scores.std() * 2})\")\n",
    "\n",
    "test_score = knn.score(X_test, y_test)\n",
    "print(f\"Test data accuracy: {test_score}\")\n",
    "\n",
    "final_decision = knn.predict(X_test[-1:])\n",
    "print(\"Final Decision: \", final_decision)"
   ]
  },
  {
   "cell_type": "code",
   "execution_count": null,
   "metadata": {},
   "outputs": [],
   "source": [
    "plt.figure(figsize=(10, 6))\n",
    "\n",
    "sns.lineplot(data=y_test, label='True Values', color='blue')\n",
    "plt.plot(len(y_test) - 1, final_decision, 'ro', markersize=10, label='Final Decision')\n",
    "\n",
    "plt.xlabel('Index')\n",
    "plt.ylabel('Values')\n",
    "plt.title('Final Decision vs True Values')\n",
    "\n",
    "plt.legend()\n",
    "plt.grid(True, linestyle='--', alpha=0.7)\n",
    "plt.tight_layout()\n",
    "\n",
    "plt.show()"
   ]
  },
  {
   "cell_type": "code",
   "execution_count": null,
   "metadata": {},
   "outputs": [],
   "source": [
    "correlation_matrix = merged_df.corr()\n",
    "\n",
    "plt.figure(figsize=(10, 8))\n",
    "\n",
    "sns.heatmap(correlation_matrix, annot=True, cmap='coolwarm', fmt=\".2f\", linewidths=0.5)\n",
    "\n",
    "plt.title('Correlation Matrix')\n",
    "\n",
    "plt.show()"
   ]
  },
  {
   "cell_type": "markdown",
   "metadata": {},
   "source": [
    "### Extra Trees Regressor"
   ]
  },
  {
   "cell_type": "code",
   "execution_count": null,
   "metadata": {},
   "outputs": [],
   "source": [
    "imputer = SimpleImputer(strategy='mean')  \n",
    "\n",
    "num_cols = merged_df.select_dtypes(include=[np.number]).columns\n",
    "\n",
    "df_imputed = pd.DataFrame(imputer.fit_transform(merged_df[num_cols]), columns=num_cols)\n",
    "\n",
    "X = df_imputed.drop('Median CPI', axis=1)\n",
    "y = df_imputed['Median CPI']\n",
    "\n",
    "param_grid = {\n",
    "    'n_estimators': [50, 100, 200, 500],\n",
    "    'max_depth': [None, 10, 20, 30],\n",
    "    'min_samples_split': [2, 5, 10],\n",
    "    'min_samples_leaf': [1, 2, 4],\n",
    "    'bootstrap': [True, False]\n",
    "}\n",
    "\n",
    "X_train, X_test, y_train, y_test = train_test_split(X, y, test_size=0.3, random_state=42)\n",
    "\n",
    "et = ExtraTreesRegressor(random_state=42)\n",
    "\n",
    "grid_search = GridSearchCV(estimator=et, param_grid=param_grid, cv=3, n_jobs=-1, verbose=2)\n",
    "grid_search.fit(X_train, y_train)\n",
    "\n",
    "best_params = grid_search.best_params_\n",
    "\n",
    "print(\"Best Params: \", best_params)"
   ]
  },
  {
   "cell_type": "code",
   "execution_count": null,
   "metadata": {},
   "outputs": [],
   "source": [
    "etr = ExtraTreesRegressor(**best_params, random_state=42)\n",
    "\n",
    "selector = SelectFromModel(estimator=etr).fit(X_train, y_train)\n",
    "X_train_selected = selector.transform(X_train)\n",
    "X_test_selected = selector.transform(X_test)\n",
    "\n",
    "etr.fit(X_train_selected, y_train)\n",
    "\n",
    "scores = cross_val_score(etr, X_train_selected, y_train, cv=5) \n",
    "print(f\"Cross-validation accuracy: {scores.mean()} (+/- {scores.std() * 2})\")\n",
    "\n",
    "y_pred = etr.predict(X_test_selected)\n",
    "\n",
    "test_score = etr.score(X_test_selected, y_test)\n",
    "print(f\"Test data accuracy: {test_score}\")\n",
    "\n",
    "final_decision = etr.predict(X_test_selected[-1:])\n",
    "print(\"Final Decision: \", final_decision)"
   ]
  },
  {
   "cell_type": "code",
   "execution_count": null,
   "metadata": {},
   "outputs": [],
   "source": [
    "plt.figure(figsize=(10, 6))\n",
    "\n",
    "sns.lineplot(data=y_test, label='True Values', color='blue')\n",
    "plt.plot(len(y_test) - 1, final_decision, 'ro', markersize=10, label='Final Decision')\n",
    "\n",
    "plt.xlabel('Index')\n",
    "plt.ylabel('Values')\n",
    "plt.title('Final Decision vs True Values')\n",
    "\n",
    "plt.legend()\n",
    "plt.grid(True, linestyle='--', alpha=0.7)\n",
    "plt.tight_layout()\n",
    "\n",
    "plt.show()"
   ]
  },
  {
   "cell_type": "code",
   "execution_count": null,
   "metadata": {},
   "outputs": [],
   "source": [
    "correlation_matrix = merged_df.corr()\n",
    "\n",
    "plt.figure(figsize=(10, 8))\n",
    "\n",
    "sns.heatmap(correlation_matrix, annot=True, cmap='coolwarm', fmt=\".2f\", linewidths=0.5)\n",
    "\n",
    "plt.title('Correlation Matrix')\n",
    "\n",
    "plt.show()"
   ]
  }
 ],
 "metadata": {
  "kernelspec": {
   "display_name": "Python 3",
   "language": "python",
   "name": "python3"
  },
  "language_info": {
   "codemirror_mode": {
    "name": "ipython",
    "version": 3
   },
   "file_extension": ".py",
   "mimetype": "text/x-python",
   "name": "python",
   "nbconvert_exporter": "python",
   "pygments_lexer": "ipython3",
   "version": "3.11.1"
  }
 },
 "nbformat": 4,
 "nbformat_minor": 2
}
